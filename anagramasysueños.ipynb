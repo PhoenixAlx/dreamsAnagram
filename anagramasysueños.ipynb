{
 "cells": [
  {
   "cell_type": "markdown",
   "metadata": {},
   "source": [
    "# De sueños y anagramas"
   ]
  },
  {
   "cell_type": "markdown",
   "metadata": {},
   "source": [
    "## Resumencillo"
   ]
  },
  {
   "cell_type": "markdown",
   "metadata": {},
   "source": [
    "En este notebook vamos a explorar juntos un sueño. Un sueño de lingüistica y geometría. Investigaremos, desde una perspectiva geométrica las palabras que están compuestas por las mismas letras pero cambiadas de posición, algo conocido como anagramas.\n",
    "\n",
    "Y es que sí, hace poco soñé con temás lingüisticos, mira que hay cosas por soñar ¿verdad? jajaja. El caso es que en el sueño estaba en una clase de la facultad de ciencias de Granada dando lingüistica. Vamos la clase de introducción al curso, y descubrí algo hermoso. Que dado un conjunto de anagramas, si representamos en un sistema de referencia de cartesiano cada palabra colocando en el primer eje la primera letra a una distancia del origen igual a su orden en el abecedario, la segunda en el segundo eje también a una distancia igual a su orden y así en sucesivo cada letra en un nuevo eje tendriamos una serie de puntos en este sistema de referencia n-dimensional, siendo n el número de letras de las palabras. \n",
    "\n",
    "Y lo más fascinante es que todos estos puntos estarían en la misma circunferencia. Bueno, si el número de letras fuese 2 sería una circunferencia, si fuese 3 la superficie d eun esfera, si fuesen 4...ya sabes.\n",
    "\n",
    "Conté este sueeño por el maravilloso grupo de telegram de aprendizaje de procesamiento de lenguaje natural GAPLEN y me nimaron a que lo llevase acabo. Así que eso es lo que veremos juntoss en este notebook. Vamos a ir colocando anagramas en círculos con la ayuda de python para al final ver como es la distribución de el número de círculos para cada tamaño de palabra.  Esto último a mi me suena muy interesante y más si conseguimos ver diferentes distribuciones para diferentes idiomas. A ver que sale.\n",
    "\n",
    "Vamos a ello"
   ]
  },
  {
   "cell_type": "markdown",
   "metadata": {},
   "source": [
    "## Herramientas"
   ]
  },
  {
   "cell_type": "markdown",
   "metadata": {},
   "source": [
    "He creado un módulo de python, que estará disponible en github, que nos ayudará a ir obteniendo lo que necesitamos. Lo he llamado dreamsAnagram, original ¿eeehh? . Vamos a importar los módulos que necesitaremos."
   ]
  },
  {
   "cell_type": "code",
   "execution_count": 1,
   "metadata": {},
   "outputs": [],
   "source": [
    "from dreamsAnagram import *\n",
    "import numpy as np\n",
    "%matplotlib inline\n",
    "import matplotlib.pyplot as plt"
   ]
  },
  {
   "cell_type": "markdown",
   "metadata": {},
   "source": [
    "matplotlib lo vamos a usar para los gráficos. "
   ]
  },
  {
   "cell_type": "markdown",
   "metadata": {},
   "source": [
    "## De anagramas y círculos"
   ]
  },
  {
   "cell_type": "markdown",
   "metadata": {},
   "source": [
    "### Ejemplos"
   ]
  },
  {
   "cell_type": "markdown",
   "metadata": {},
   "source": [
    "Os recuerdo la idea dado un conjunto de palabras que son anagramas, si representamos en un sistema de referencia de cartesiano cada palabra colocando en el primer eje la primera letra a una distancia del origen igual a su orden en el abecedario, la segunda en el segundo eje también a una distancia igual a su orden y así en sucesivo cada letra en un nuevo eje tendriamos una serie de puntos en este sistema de referencia n-dimensional, siendo n el número de letras de las palabras.\n",
    "\n",
    "Os voy a mostra un ejemplo con las palabras \"la\" y \"al\". Primero cálculamos cuales son sus coordenadas. Para eso hacemos"
   ]
  },
  {
   "cell_type": "code",
   "execution_count": 3,
   "metadata": {},
   "outputs": [
    {
     "name": "stdout",
     "output_type": "stream",
     "text": [
      "{'la': {'coor': [12, 1], 'r': 12.041594578792296}, 'al': {'coor': [1, 12], 'r': 12.041594578792296}}\n"
     ]
    }
   ],
   "source": [
    "list_words=['la','al']\n",
    "words_datas={}\n",
    "for w in list_words:\n",
    "    words_datas[w]=get_coor(w,'es')\n",
    "print(words_datas)\n"
   ]
  },
  {
   "cell_type": "markdown",
   "metadata": {},
   "source": [
    "Las coordenadas tienen dos componentes al ser palabras de 2 letras de tamaño. Por tanto las dibujaremos en un sistema cartesiano de 2 dimensiones."
   ]
  },
  {
   "cell_type": "code",
   "execution_count": 11,
   "metadata": {},
   "outputs": [
    {
     "data": {
      "image/png": "[encoded data removed]",
      "text/plain": [
       "<matplotlib.figure.Figure at 0x7f6a8771fa58>"
      ]
     },
     "metadata": {},
     "output_type": "display_data"
    }
   ],
   "source": [
    "data_x=[]\n",
    "data_y=[]\n",
    "for w in list_words:\n",
    "    words_datas[w]\n",
    "    data_x.append(words_datas[w]['coor'][0])\n",
    "    data_y.append(words_datas[w]['coor'][1])\n",
    "    x = np.linspace(0, words_datas[w]['r'], 100)\n",
    "    y = np.linspace(0, words_datas[w]['r'], 100)\n",
    "    X, Y = np.meshgrid(x,y)\n",
    "    F = X**2 + Y**2 - words_datas[w]['r']**2\n",
    "    plt.contour(X,Y,F,[0])\n",
    "    plt.plot([0,words_datas[w]['coor'][0]],[0,words_datas[w]['coor'][1]])\n",
    "    plt.annotate(\n",
    "        'r=%f'%words_datas[w]['r'],\n",
    "        xy=(words_datas[w]['coor'][0]/2, words_datas[w]['coor'][1]/2), xytext=(-20, 20),\n",
    "        textcoords='offset points', ha='right', va='bottom',\n",
    "        bbox=dict(boxstyle='round,pad=0.5', fc='yellow', alpha=0.5),\n",
    "        arrowprops=dict(arrowstyle = '->', connectionstyle='arc3,rad=0'))\n",
    "labels=list_words\n",
    "\n",
    "\n",
    "plt.scatter(data_x, data_y)\n",
    "\n",
    "for label, x, y in zip(labels, data_x, data_y):\n",
    "    plt.annotate(\n",
    "        label,\n",
    "        xy=(x, y), xytext=(-20, 20),\n",
    "        textcoords='offset points', ha='right', va='bottom',\n",
    "        bbox=dict(boxstyle='round,pad=0.5', fc='yellow', alpha=0.5),\n",
    "        arrowprops=dict(arrowstyle = '->', connectionstyle='arc3,rad=0'))\n",
    "\n",
    "\n",
    "plt.show()"
   ]
  },
  {
   "cell_type": "markdown",
   "metadata": {},
   "source": [
    "Como podéis obsservar ambas palabrass esstán en la misma circunferencia ya que tienen los mismo radios."
   ]
  },
  {
   "cell_type": "markdown",
   "metadata": {},
   "source": [
    "### ¿Cuántos círculos hay?"
   ]
  },
  {
   "cell_type": "markdown",
   "metadata": {},
   "source": [
    "Bien, hemos visto con este ejemplo que un conjunto de anagramas nos proporciona una círcunferencia. Lo siguiente que me pregunto es ¿Cuántos anagramas, o lo que es lo mismo cuántos círculos para palabras de 2 letras hay?\n",
    "\n",
    "Para eso hemos de conseguir una buena lista de palabras que nos ayude."
   ]
  },
  {
   "cell_type": "code",
   "execution_count": null,
   "metadata": {},
   "outputs": [],
   "source": []
  }
 ],
 "metadata": {
  "kernelspec": {
   "display_name": "Python 3",
   "language": "python",
   "name": "python3"
  },
  "language_info": {
   "codemirror_mode": {
    "name": "ipython",
    "version": 3
   },
   "file_extension": ".py",
   "mimetype": "text/x-python",
   "name": "python",
   "nbconvert_exporter": "python",
   "pygments_lexer": "ipython3",
   "version": "3.6.2"
  }
 },
 "nbformat": 4,
 "nbformat_minor": 2
}
